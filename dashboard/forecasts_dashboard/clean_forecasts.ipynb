{
 "cells": [
  {
   "cell_type": "markdown",
   "id": "aec9033c",
   "metadata": {},
   "source": [
    "## Clean the forecasted data"
   ]
  },
  {
   "cell_type": "code",
   "execution_count": 1,
   "id": "7a30bc98",
   "metadata": {},
   "outputs": [],
   "source": [
    "import pandas as pd"
   ]
  },
  {
   "cell_type": "code",
   "execution_count": 5,
   "id": "3e6e51a4",
   "metadata": {},
   "outputs": [],
   "source": [
    "# 1) Load the final ensemble results\n",
    "df = pd.read_csv(\"final_traffic_ensemble.csv\", parse_dates=[\"DATE\"])\n",
    "\n",
    "# 2) Load the location file (with longitude, latitude, ZNAME and BEZIRK_NAME)\n",
    "loc = pd.read_csv(\"../data/dauerzaehlstellen_location.csv\")\n",
    "\n",
    "# 3) Merge on ZNR to bring in geo-info and names\n",
    "df = df.merge(\n",
    "    loc[[\"ZNR\", \"LONGITUDE\", \"LATITUDE\", \"ZNAME\", \"BEZIRK_NAME\"]],\n",
    "    on=\"ZNR\",\n",
    "    how=\"left\"\n",
    ")\n",
    "\n",
    "# 5) (Optional) sort and reset index\n",
    "df = df.sort_values([\"ZNR\", \"DATE\"]).reset_index(drop=True)\n"
   ]
  },
  {
   "cell_type": "code",
   "execution_count": 6,
   "id": "43499f41",
   "metadata": {},
   "outputs": [
    {
     "name": "stdout",
     "output_type": "stream",
     "text": [
      "ZNR\n",
      "DATE\n",
      "DTVMS\n",
      "ISTCOVID19\n",
      "BEZIRK\n",
      "AUSPENDLER\n",
      "POP\n",
      "PKW_DENSITY\n",
      "BICYCLE\n",
      "BIKESHARING\n",
      "BY_FOOT\n",
      "CAR\n",
      "CARSHARING\n",
      "MOTORBIKE\n",
      "PUBLIC_TRANSPORT\n",
      "DTVMS_fc_exog\n",
      "DTVMS_fc_noex\n",
      "DTVMS_fc_prophet\n",
      "DTVMS_full_exog\n",
      "DTVMS_full_noex\n",
      "DTVMS_full_prophet\n",
      "DTVMS_ensemble\n",
      "LONGITUDE\n",
      "LATITUDE\n",
      "ZNAME\n",
      "BEZIRK_NAME\n"
     ]
    }
   ],
   "source": [
    "for col in df.columns:\n",
    "    print(col)"
   ]
  },
  {
   "cell_type": "code",
   "execution_count": 8,
   "id": "88477e97",
   "metadata": {},
   "outputs": [],
   "source": [
    "import pandas as pd\n",
    "\n",
    "# 2) aggregate mode-share columns\n",
    "df[\"BIKE\"] = df[\"BICYCLE\"] + df[\"BIKESHARING\"]\n",
    "df[\"CAR\"]  = df[\"CAR\"] + df[\"CARSHARING\"] + df[\"MOTORBIKE\"]\n",
    "\n",
    "# 3) drop the no-longer-needed splits\n",
    "df = df.drop(columns=[\n",
    "    \"BICYCLE\",\n",
    "    \"BIKESHARING\",\n",
    "    \"CARSHARING\",\n",
    "    \"MOTORBIKE\"\n",
    "])\n",
    "\n",
    "# 4) reorder into exactly the layout you specified\n",
    "new_order = [\n",
    "    \"DATE\",\n",
    "    \"ZNR\",\n",
    "    \"ZNAME\",\n",
    "    \"BEZIRK\",\n",
    "    \"BEZIRK_NAME\",\n",
    "    \"LONGITUDE\",\n",
    "    \"LATITUDE\",\n",
    "    \"DTVMS\",\n",
    "    \"DTVMS_fc_exog\",\n",
    "    \"DTVMS_fc_noex\",\n",
    "    \"DTVMS_fc_prophet\",\n",
    "    \"DTVMS_full_exog\",\n",
    "    \"DTVMS_full_noex\",\n",
    "    \"DTVMS_full_prophet\",\n",
    "    \"DTVMS_ensemble\",\n",
    "    \"ISTCOVID19\",\n",
    "    \"POP\",\n",
    "    \"AUSPENDLER\",\n",
    "    \"PKW_DENSITY\",\n",
    "    \"CAR\",\n",
    "    \"PUBLIC_TRANSPORT\",\n",
    "    \"BY_FOOT\",\n",
    "    \"BIKE\"\n",
    "]\n",
    "df = df[new_order]\n",
    "\n",
    "# 5) (optional) write out the cleaned file\n",
    "df.to_csv(\"traffic_dashboard_final.csv\", index=False)"
   ]
  },
  {
   "cell_type": "code",
   "execution_count": 9,
   "id": "b481f1b5",
   "metadata": {},
   "outputs": [
    {
     "name": "stdout",
     "output_type": "stream",
     "text": [
      "                column     0\n",
      "0                 DATE     0\n",
      "1                  ZNR     0\n",
      "2                ZNAME     0\n",
      "3               BEZIRK     0\n",
      "4          BEZIRK_NAME     0\n",
      "5            LONGITUDE     0\n",
      "6             LATITUDE     0\n",
      "7                DTVMS  3864\n",
      "8        DTVMS_fc_exog  5724\n",
      "9        DTVMS_fc_noex  5724\n",
      "10    DTVMS_fc_prophet  5724\n",
      "11     DTVMS_full_exog    48\n",
      "12     DTVMS_full_noex    48\n",
      "13  DTVMS_full_prophet    48\n",
      "14      DTVMS_ensemble    48\n",
      "15          ISTCOVID19     0\n",
      "16                 POP     0\n",
      "17          AUSPENDLER     0\n",
      "18         PKW_DENSITY     0\n",
      "19                 CAR     0\n",
      "20    PUBLIC_TRANSPORT     0\n",
      "21             BY_FOOT     0\n",
      "22                BIKE     0\n"
     ]
    }
   ],
   "source": [
    "missing_df = (\n",
    "    df.isna()\n",
    "      .sum()\n",
    "      .reset_index()\n",
    "      .rename(columns={\"index\":\"column\",\"0\":\"n_missing\"})\n",
    ")\n",
    "print(missing_df)"
   ]
  }
 ],
 "metadata": {
  "kernelspec": {
   "display_name": ".venv",
   "language": "python",
   "name": "python3"
  },
  "language_info": {
   "codemirror_mode": {
    "name": "ipython",
    "version": 3
   },
   "file_extension": ".py",
   "mimetype": "text/x-python",
   "name": "python",
   "nbconvert_exporter": "python",
   "pygments_lexer": "ipython3",
   "version": "3.13.2"
  }
 },
 "nbformat": 4,
 "nbformat_minor": 5
}
