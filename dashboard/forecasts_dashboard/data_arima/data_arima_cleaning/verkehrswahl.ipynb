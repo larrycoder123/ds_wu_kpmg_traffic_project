{
 "cells": [
  {
   "cell_type": "markdown",
   "id": "cedbfe1d",
   "metadata": {},
   "source": [
    "# Verkehrsmittelwahl"
   ]
  },
  {
   "cell_type": "markdown",
   "id": "6f3e1c74",
   "metadata": {},
   "source": [
    "### Dataset\n",
    "\n",
    "https://www.data.gv.at/katalog/dataset/7d610a57-2105-4dd7-9bc8-c4101ef42539#additional-info\n",
    "\n",
    "- Vienna aggregated\n",
    "- 2005-2022\n",
    "\n",
    "= Share of traffic for different modes of transport:\n",
    "- BICYCLE\n",
    "- BY_FOOT\n",
    "- CAR \n",
    "- MOTORCYCLE\n",
    "- PUBLIC_TRANSPORT"
   ]
  },
  {
   "cell_type": "markdown",
   "id": "37577717",
   "metadata": {},
   "source": [
    "## Prepare Data"
   ]
  },
  {
   "cell_type": "code",
   "execution_count": 1,
   "id": "d8505b93",
   "metadata": {},
   "outputs": [],
   "source": [
    "import pandas as pd\n",
    "import numpy as np\n",
    "from statsmodels.tsa.arima.model import ARIMA\n",
    "import statsmodels.api as sm\n",
    "import matplotlib.pyplot as plt"
   ]
  },
  {
   "cell_type": "code",
   "execution_count": 2,
   "id": "ac8eb343",
   "metadata": {},
   "outputs": [],
   "source": [
    "pd.set_option('display.max_rows', None)\n",
    "pd.set_option('display.max_columns', None)"
   ]
  },
  {
   "cell_type": "code",
   "execution_count": 3,
   "id": "e963fad3",
   "metadata": {},
   "outputs": [],
   "source": [
    "vmw_raw = pd.read_csv(\"../data_arima_raw/verkehrsmittelwahl2022.csv\", sep=\";\")\n",
    "\n",
    "cols_to_keep = ['YEAR', 'BICYCLE', 'BIKESHARING', 'BY_FOOT', 'CAR', 'CARSHARING', 'MOTORBIKE', 'PUBLIC_TRANSPORT']\n",
    "vmw = vmw_raw[cols_to_keep].copy()\n",
    "\n",
    "vmw['date'] = pd.to_datetime(vmw['YEAR'].astype(str) + '-01-01')\n",
    "vmw = vmw.set_index('date').drop(columns=['YEAR'])\n",
    "\n",
    "# Apply conversion to each percentage column\n",
    "for col in vmw.columns:\n",
    "    vmw[col] = vmw[col].str.replace(\",\", \".\").astype(float)\n",
    "\n",
    "vmw = vmw.asfreq(\"YS\")"
   ]
  },
  {
   "cell_type": "markdown",
   "id": "35dd051a",
   "metadata": {},
   "source": [
    "## Forecast"
   ]
  },
  {
   "cell_type": "code",
   "execution_count": 4,
   "id": "9e070c96",
   "metadata": {},
   "outputs": [
    {
     "name": "stderr",
     "output_type": "stream",
     "text": [
      "c:\\Users\\mihim\\Desktop\\PythonUSDataProject\\ds_lab_project\\.venv\\Lib\\site-packages\\statsmodels\\tsa\\statespace\\sarimax.py:978: UserWarning: Non-invertible starting MA parameters found. Using zeros as starting parameters.\n",
      "  warn('Non-invertible starting MA parameters found.'\n"
     ]
    }
   ],
   "source": [
    "# FORECAST 2023–2030 FOR EACH MODE-SHARE AT ANNUAL FREQUENCY\n",
    "\n",
    "# Build an empty DataFrame spanning 2005–2030 (annual index)\n",
    "years_full = pd.date_range(\"2005-01-01\", \"2030-01-01\", freq=\"YS\")\n",
    "vmw_full    = pd.DataFrame(index=years_full, columns=vmw.columns)\n",
    "\n",
    "# Copy historic values (2005–2022) into vmw_full\n",
    "vmw_full.loc[vmw.index, :] = vmw.values\n",
    "\n",
    "# For each mode, fit ARIMA(1,1,1) on 2005–2022 and forecast 8 years\n",
    "n_fore = 8\n",
    "for mode in vmw.columns:\n",
    "    series = vmw[mode]                   # index.freq == \"YS\"\n",
    "    model  = ARIMA(series, order=(1, 1, 1))\n",
    "    fitted = model.fit()\n",
    "    f_idx  = pd.date_range(\"2023-01-01\", periods=n_fore, freq=\"YS\")\n",
    "    vmw_full.loc[f_idx, mode] = fitted.forecast(steps=n_fore).values\n",
    "\n",
    "# Renormalize each year so the seven shares sum to exactly 100\n",
    "vmw_full = vmw_full.div(vmw_full.sum(axis=1), axis=0) * 100"
   ]
  },
  {
   "cell_type": "markdown",
   "id": "4a45b382",
   "metadata": {},
   "source": [
    "## Final Adjustments"
   ]
  },
  {
   "cell_type": "code",
   "execution_count": 5,
   "id": "267e33ea",
   "metadata": {},
   "outputs": [
    {
     "name": "stdout",
     "output_type": "stream",
     "text": [
      "2005-01-31 00:00:00\n",
      "2030-12-31 00:00:00\n"
     ]
    }
   ],
   "source": [
    "vmw_full = vmw_full.astype(float)\n",
    "\n",
    "vmw_monthly = vmw_full.resample(\"ME\").ffill()\n",
    "\n",
    "all_month_ends = pd.date_range(\"2005-01-31\", \"2030-12-31\", freq=\"ME\")\n",
    "\n",
    "vmw_monthly = vmw_monthly.reindex(all_month_ends).ffill()\n",
    "\n",
    "print(vmw_monthly.index.min())  # → 2005-01-31\n",
    "print(vmw_monthly.index.max())  # → 2030-12-31\n",
    "\n",
    "vmw_monthly.index = vmw_monthly.index.to_period(\"M\").to_timestamp()\n",
    "\n",
    "vmw_monthly = vmw_monthly.clip(lower=0)\n",
    "\n",
    "vmw_decimal = vmw_monthly.copy()\n",
    "vmw_decimal = vmw_decimal / 100.0\n",
    "\n",
    "vmw_decimal['sum_of_shares'] = vmw_decimal.sum(axis=1)"
   ]
  },
  {
   "cell_type": "code",
   "execution_count": 6,
   "id": "8c1a1539",
   "metadata": {},
   "outputs": [
    {
     "data": {
      "text/html": [
       "<div>\n",
       "<style scoped>\n",
       "    .dataframe tbody tr th:only-of-type {\n",
       "        vertical-align: middle;\n",
       "    }\n",
       "\n",
       "    .dataframe tbody tr th {\n",
       "        vertical-align: top;\n",
       "    }\n",
       "\n",
       "    .dataframe thead th {\n",
       "        text-align: right;\n",
       "    }\n",
       "</style>\n",
       "<table border=\"1\" class=\"dataframe\">\n",
       "  <thead>\n",
       "    <tr style=\"text-align: right;\">\n",
       "      <th></th>\n",
       "      <th>BICYCLE</th>\n",
       "      <th>BIKESHARING</th>\n",
       "      <th>BY_FOOT</th>\n",
       "      <th>CAR</th>\n",
       "      <th>CARSHARING</th>\n",
       "      <th>MOTORBIKE</th>\n",
       "      <th>PUBLIC_TRANSPORT</th>\n",
       "      <th>sum_of_shares</th>\n",
       "    </tr>\n",
       "  </thead>\n",
       "  <tbody>\n",
       "    <tr>\n",
       "      <th>2030-08-01</th>\n",
       "      <td>0.094333</td>\n",
       "      <td>0.0</td>\n",
       "      <td>0.361491</td>\n",
       "      <td>0.226712</td>\n",
       "      <td>0.000593</td>\n",
       "      <td>0.004974</td>\n",
       "      <td>0.311898</td>\n",
       "      <td>1.0</td>\n",
       "    </tr>\n",
       "    <tr>\n",
       "      <th>2030-09-01</th>\n",
       "      <td>0.094333</td>\n",
       "      <td>0.0</td>\n",
       "      <td>0.361491</td>\n",
       "      <td>0.226712</td>\n",
       "      <td>0.000593</td>\n",
       "      <td>0.004974</td>\n",
       "      <td>0.311898</td>\n",
       "      <td>1.0</td>\n",
       "    </tr>\n",
       "    <tr>\n",
       "      <th>2030-10-01</th>\n",
       "      <td>0.094333</td>\n",
       "      <td>0.0</td>\n",
       "      <td>0.361491</td>\n",
       "      <td>0.226712</td>\n",
       "      <td>0.000593</td>\n",
       "      <td>0.004974</td>\n",
       "      <td>0.311898</td>\n",
       "      <td>1.0</td>\n",
       "    </tr>\n",
       "    <tr>\n",
       "      <th>2030-11-01</th>\n",
       "      <td>0.094333</td>\n",
       "      <td>0.0</td>\n",
       "      <td>0.361491</td>\n",
       "      <td>0.226712</td>\n",
       "      <td>0.000593</td>\n",
       "      <td>0.004974</td>\n",
       "      <td>0.311898</td>\n",
       "      <td>1.0</td>\n",
       "    </tr>\n",
       "    <tr>\n",
       "      <th>2030-12-01</th>\n",
       "      <td>0.094333</td>\n",
       "      <td>0.0</td>\n",
       "      <td>0.361491</td>\n",
       "      <td>0.226712</td>\n",
       "      <td>0.000593</td>\n",
       "      <td>0.004974</td>\n",
       "      <td>0.311898</td>\n",
       "      <td>1.0</td>\n",
       "    </tr>\n",
       "  </tbody>\n",
       "</table>\n",
       "</div>"
      ],
      "text/plain": [
       "             BICYCLE  BIKESHARING   BY_FOOT       CAR  CARSHARING  MOTORBIKE  \\\n",
       "2030-08-01  0.094333          0.0  0.361491  0.226712    0.000593   0.004974   \n",
       "2030-09-01  0.094333          0.0  0.361491  0.226712    0.000593   0.004974   \n",
       "2030-10-01  0.094333          0.0  0.361491  0.226712    0.000593   0.004974   \n",
       "2030-11-01  0.094333          0.0  0.361491  0.226712    0.000593   0.004974   \n",
       "2030-12-01  0.094333          0.0  0.361491  0.226712    0.000593   0.004974   \n",
       "\n",
       "            PUBLIC_TRANSPORT  sum_of_shares  \n",
       "2030-08-01          0.311898            1.0  \n",
       "2030-09-01          0.311898            1.0  \n",
       "2030-10-01          0.311898            1.0  \n",
       "2030-11-01          0.311898            1.0  \n",
       "2030-12-01          0.311898            1.0  "
      ]
     },
     "execution_count": 6,
     "metadata": {},
     "output_type": "execute_result"
    }
   ],
   "source": [
    "vmw_decimal.tail()"
   ]
  },
  {
   "cell_type": "code",
   "execution_count": 7,
   "id": "2b22f4e0",
   "metadata": {},
   "outputs": [],
   "source": [
    "vmw_final = vmw_decimal.drop(columns=[\"sum_of_shares\"])\n",
    "\n",
    "output_path = \"../data_arima_final/verkehrsmittelwahl.csv\"\n",
    "vmw_final.to_csv(output_path, index=True)"
   ]
  },
  {
   "cell_type": "markdown",
   "id": "f7ea5a38",
   "metadata": {},
   "source": [
    "#### Plot"
   ]
  },
  {
   "cell_type": "code",
   "execution_count": null,
   "id": "19acdb5c",
   "metadata": {},
   "outputs": [
    {
     "data": {
      "image/png": "[encoded data removed]",
      "text/plain": [
       "<Figure size 1200x600 with 1 Axes>"
      ]
     },
     "metadata": {},
     "output_type": "display_data"
    },
    {
     "ename": "",
     "evalue": "",
     "output_type": "error",
     "traceback": [
      "\u001b[1;31mThe Kernel crashed while executing code in the current cell or a previous cell. \n",
      "\u001b[1;31mPlease review the code in the cell(s) to identify a possible cause of the failure. \n",
      "\u001b[1;31mClick <a href='https://aka.ms/vscodeJupyterKernelCrash'>here</a> for more info. \n",
      "\u001b[1;31mView Jupyter <a href='command:jupyter.viewOutput'>log</a> for further details."
     ]
    }
   ],
   "source": [
    "plt.figure(figsize=(12, 6))\n",
    "for col in vmw_decimal.columns.drop(\"sum_of_shares\"):\n",
    "    plt.plot(vmw_decimal.index, vmw_decimal[col], label=col)\n",
    "\n",
    "plt.title(\"Monthly Traffic Mode Share (Decimals) 2005–2030\")\n",
    "plt.xlabel(\"Date\")\n",
    "plt.ylabel(\"Mode Share (0–1)\")\n",
    "plt.legend(loc=\"upper left\", bbox_to_anchor=(1, 1))\n",
    "plt.tight_layout()\n",
    "plt.show()"
   ]
  }
 ],
 "metadata": {
  "kernelspec": {
   "display_name": ".venv",
   "language": "python",
   "name": "python3"
  },
  "language_info": {
   "codemirror_mode": {
    "name": "ipython",
    "version": 3
   },
   "file_extension": ".py",
   "mimetype": "text/x-python",
   "name": "python",
   "nbconvert_exporter": "python",
   "pygments_lexer": "ipython3",
   "version": "3.13.2"
  }
 },
 "nbformat": 4,
 "nbformat_minor": 5
}
